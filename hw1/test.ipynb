{
 "cells": [
  {
   "cell_type": "code",
   "execution_count": null,
   "metadata": {},
   "outputs": [
    {
     "ename": "AttributeError",
     "evalue": "'numpy.ndarray' object has no attribute 'backward'",
     "output_type": "error",
     "traceback": [
      "\u001b[1;31m---------------------------------------------------------------------------\u001b[0m",
      "\u001b[1;31mAttributeError\u001b[0m                            Traceback (most recent call last)",
      "Cell \u001b[1;32mIn[19], line 6\u001b[0m\n\u001b[0;32m      4\u001b[0m a \u001b[38;5;241m=\u001b[39m np\u001b[38;5;241m.\u001b[39marray([[\u001b[38;5;241m1\u001b[39m], [\u001b[38;5;241m2\u001b[39m], [\u001b[38;5;241m3\u001b[39m]])  \u001b[38;5;66;03m# shape (3, 1)\u001b[39;00m\n\u001b[0;32m      5\u001b[0m b \u001b[38;5;241m=\u001b[39m np\u001b[38;5;241m.\u001b[39mbroadcast_to(a, shape)  \u001b[38;5;66;03m# shape (3, 3)\u001b[39;00m\n\u001b[1;32m----> 6\u001b[0m \u001b[43mb\u001b[49m\u001b[38;5;241;43m.\u001b[39;49m\u001b[43mbackward\u001b[49m()\n\u001b[0;32m      7\u001b[0m \u001b[38;5;28mprint\u001b[39m(b\u001b[38;5;241m.\u001b[39mgrad)\n\u001b[0;32m      8\u001b[0m \u001b[38;5;66;03m# 假设 b 对应的梯度是全1数组\u001b[39;00m\n\u001b[0;32m      9\u001b[0m \u001b[38;5;66;03m# grad_b = np.ones_like(b)  # shape (3, 3)\u001b[39;00m\n\u001b[0;32m     10\u001b[0m \n\u001b[1;32m   (...)\u001b[0m\n\u001b[0;32m     22\u001b[0m \u001b[38;5;66;03m# print(shrink_dims)\u001b[39;00m\n\u001b[0;32m     23\u001b[0m \u001b[38;5;66;03m# print((b.sum(shrink_dims)))\u001b[39;00m\n",
      "\u001b[1;31mAttributeError\u001b[0m: 'numpy.ndarray' object has no attribute 'backward'"
     ]
    }
   ],
   "source": [
    "import numpy as np\n",
    "import torch\n",
    "\n",
    "shape = (3, 3)\n",
    "a = torch.Tensor([[1], [2], [3]])  # shape (3, 1)\n",
    "b = np.broadcast_to(a, shape)  # shape (3, 3)\n",
    "b.backward()\n",
    "print(b.grad)\n",
    "# 假设 b 对应的梯度是全1数组\n",
    "# grad_b = np.ones_like(b)  # shape (3, 3)\n",
    "\n",
    "# # 计算 grad_a\n",
    "# grad_a = grad_b.sum(axis=1)  # sum over columns of b\n",
    "# print(\"Gradients of a:\")\n",
    "# print(grad_a)\n",
    "\n",
    "# ori_shape = a.shape\n",
    "# shrink_dims = [i for i in range(len(shape))]\n",
    "# for i, (ori, cur) in enumerate(zip(reversed(ori_shape), reversed(shape))):\n",
    "#     if ori == cur:\n",
    "#         shrink_dims[len(shape) - i - 1] = -1\n",
    "# shrink_dims = tuple(filter(lambda x: x >= 0, shrink_dims))\n",
    "# print(shrink_dims)\n",
    "# print((b.sum(shrink_dims)))\n"
   ]
  }
 ],
 "metadata": {
  "kernelspec": {
   "display_name": "dlsys",
   "language": "python",
   "name": "python3"
  },
  "language_info": {
   "codemirror_mode": {
    "name": "ipython",
    "version": 3
   },
   "file_extension": ".py",
   "mimetype": "text/x-python",
   "name": "python",
   "nbconvert_exporter": "python",
   "pygments_lexer": "ipython3",
   "version": "3.11.11"
  }
 },
 "nbformat": 4,
 "nbformat_minor": 2
}
